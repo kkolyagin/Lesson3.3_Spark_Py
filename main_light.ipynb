{
 "cells": [
  {
   "cell_type": "code",
   "execution_count": 80,
   "id": "dc203c45-eef7-4a5e-9c23-443db3e7e4ae",
   "metadata": {},
   "outputs": [],
   "source": [
    "import pyspark.sql.types as T\n",
    "import pyspark.sql.functions as F\n",
    "from pyspark.sql import SparkSession\n",
    "import datetime"
   ]
  },
  {
   "cell_type": "code",
   "execution_count": 66,
   "id": "a6c8f2af-fb2f-46ba-81cb-2b771d391bbd",
   "metadata": {},
   "outputs": [],
   "source": [
    "spark = SparkSession.builder.master(\"local\").\\\n",
    "                    appName(\"Word Count\").\\\n",
    "                    config(\"spark.driver.bindAddress\",\"localhost\").\\\n",
    "                    config(\"spark.ui.port\",\"4040\").\\\n",
    "                    getOrCreate()"
   ]
  },
  {
   "cell_type": "code",
   "execution_count": 67,
   "id": "6479b8f8-3671-44db-bc1d-9a76a7961f93",
   "metadata": {},
   "outputs": [],
   "source": [
    "schema = T.StructType([\n",
    "                T.StructField(\"id\", T.IntegerType(), True),\n",
    "                T.StructField(\"timestamp\", T.IntegerType(), True),\n",
    "                T.StructField(\"type\", T.StringType(), True),\n",
    "                T.StructField(\"page_id\", T.IntegerType(), True),\n",
    "                T.StructField(\"tag\", T.StringType(), True),\n",
    "                T.StructField(\"sign\", T.BooleanType(), True)])"
   ]
  },
  {
   "cell_type": "code",
   "execution_count": 75,
   "id": "c438c34c-edfa-44a7-9dee-aca05ea23bf3",
   "metadata": {},
   "outputs": [],
   "source": [
    "schema2 = T.StructType([\n",
    "                T.StructField(\"id\", T.IntegerType(), True),\n",
    "                T.StructField(\"user_id\", T.IntegerType(), True),\n",
    "                T.StructField(\"fio\", T.StringType(), True),\n",
    "                T.StructField(\"dob\", T.IntegerType(), True),\n",
    "                T.StructField(\"doc\", T.IntegerType(), True)])    "
   ]
  },
  {
   "cell_type": "code",
   "execution_count": 139,
   "id": "a9a087c6-e0df-44be-bd29-301d58afce65",
   "metadata": {},
   "outputs": [],
   "source": [
    "data =[(12345, 1667627426, \"click\", 101, \"Sport\", True),\n",
    "        (12345, 1438732800, \"scroll\", 101, \"sport\", True),\n",
    "        (12345, 1380412800, \"move\", 102, \"medicine\", True),\n",
    "        (12348, 1211760000, \"visit\", 103, \"hitech\", True),\n",
    "        (12348, 1522713600, \"scroll\", 104, \"medicine\", True),\n",
    "        (12346, 1423612800, \"click\", 105, \"medicine\", False),\n",
    "        (12348, 1337644800, \"scroll\", 103, \"hitech\", True),\n",
    "        (12346, 1026000000, \"click\", 102, \"medicine\", False),\n",
    "        (12346, 1332460800, \"move\", 101, \"sport\", False),\n",
    "        (12345, 1276473600, \"visit\", 103, \"hitech\", True),\n",
    "        (12347, 1289347200, \"click\", 101, \"medicine\", True),\n",
    "        (12345, 985910400, \"move\", 104, \"sport\", True),\n",
    "        (12349, 1542153600, \"scroll\", 112, \"medicine\", False),\n",
    "        (12349, 1557100800, \"click\", 103, \"hitech\", False),\n",
    "        (12345, 1547424000, \"click\", 107, \"sport\", True),\n",
    "        (12348, 1489968000, \"click\", 103, \"politics\", True),\n",
    "        (12348, 1366502400, \"move\", 104, \"sport\", True),\n",
    "        (12345, 1297036800, \"scroll\", 107, \"hitech\", True),\n",
    "        (12348, 1137715200, \"move\", 108, \"medicine\", True),\n",
    "        (12348, 1495324800, \"click\", 109, \"hitech\", True),\n",
    "        (12349, 1359936000, \"click\", 101, \"politics\", False),\n",
    "        (12347, 1125532800, \"move\", 101, \"medicine\", True),\n",
    "        (12345, 1015372800, \"scroll\", 102, \"sport\", True),\n",
    "        (12346, 1371772800, \"click\", 103, \"politics\", False),\n",
    "        (12350, 1105660800, \"scroll\", 104, \"politics\", True),\n",
    "        (12346, 1456617600, \"scroll\", 105, \"hitech\", False),\n",
    "        (12346, 1268784000, \"click\", 106, \"medicine\", False),\n",
    "        (12347, 1371600000, \"visit\", 107, \"medicine\", True),\n",
    "        (12349, 1033171200, \"move\", 108, \"hitech\", False),\n",
    "        (12349, 1171670400, \"scroll\", 109, \"hitech\", False)]"
   ]
  },
  {
   "cell_type": "code",
   "execution_count": 83,
   "id": "cf059dbb-f2da-44ec-859b-0ce1528b5c3b",
   "metadata": {},
   "outputs": [],
   "source": [
    "data2 = [(1, 12345,\"Алексеев Борис Владимирович\", 578707200, 1438732800),\n",
    "        (1, 12346,\"Борисов Владимир Геннадьевич\", 346723200, 1631732800),\n",
    "        (1, 12347,\"Воробьев Геннадий Дмитриевич\", 462240000, 1334732800),\n",
    "        (1, 12348,\"Евстифеева Галина Андреевна\", 496281600, 1238324800),\n",
    "        (1, 12349,\"Хабибулин Марат Адамович\", 568944000, 1428732800),\n",
    "        (1, 12350,\"Зайцева Анна Михайловна\", 486691200, 1528632800)]"
   ]
  },
  {
   "cell_type": "code",
   "execution_count": 140,
   "id": "4a4f9768-89b5-46c0-96ed-d34ddf76d1da",
   "metadata": {},
   "outputs": [],
   "source": [
    "df = spark.createDataFrame(data=data, schema = schema)\n",
    "dfus = spark.createDataFrame(data=data2, schema = schema2)"
   ]
  },
  {
   "cell_type": "code",
   "execution_count": 133,
   "id": "63ebcedc-5b46-41ee-9071-00f885b0a9fc",
   "metadata": {},
   "outputs": [
    {
     "name": "stdout",
     "output_type": "stream",
     "text": [
      "+-----+\n",
      "|   id|\n",
      "+-----+\n",
      "|12345|\n",
      "|12348|\n",
      "|12346|\n",
      "|12349|\n",
      "|12347|\n",
      "+-----+\n",
      "only showing top 5 rows\n",
      "\n"
     ]
    }
   ],
   "source": [
    "## Вывести топ-5 самых активных посетителей сайта\n",
    "df.groupBy(\"id\").count()\\\n",
    "    .orderBy(\"count\", ascending=False)\\\n",
    "    .select(\"id\")\\\n",
    "    .show(5)"
   ]
  },
  {
   "cell_type": "code",
   "execution_count": 134,
   "id": "65921c06-3ed9-4f2e-a9db-95487b1a987f",
   "metadata": {},
   "outputs": [
    {
     "name": "stdout",
     "output_type": "stream",
     "text": [
      "Процент посетителей, у которых есть ЛК: 66.67 %\n"
     ]
    }
   ],
   "source": [
    "##Посчитать процент посетителей, у которых есть ЛК\n",
    "sign_count = df.select(\"id\")\\\n",
    "    .where(F.col(\"sign\")==True)\\\n",
    "    .select(F.countDistinct(\"id\"))\\\n",
    "    .collect()[0][0]\n",
    "\n",
    "user_count = df.select(\"id\")\\\n",
    "    .select(F.countDistinct(\"id\"))\\\n",
    "    .collect()[0][0]\n",
    "\n",
    "print(\"Процент посетителей, у которых есть ЛК: {0:.2f} %\".format(100 * sign_count / user_count))"
   ]
  },
  {
   "cell_type": "code",
   "execution_count": 147,
   "id": "e551c22f-0961-4a53-a07e-f277e4caed6e",
   "metadata": {},
   "outputs": [
    {
     "name": "stdout",
     "output_type": "stream",
     "text": [
      "+-------+\n",
      "|page_id|\n",
      "+-------+\n",
      "|    103|\n",
      "|    101|\n",
      "|    107|\n",
      "|    102|\n",
      "|    105|\n",
      "+-------+\n",
      "only showing top 5 rows\n",
      "\n"
     ]
    }
   ],
   "source": [
    "#Вывести топ-5 страниц сайта по показателю общего кол-ва кликов на данной странице\n",
    "df.filter(F.col(\"type\") == \"click\")\\\n",
    "    .groupby(\"page_id\")\\\n",
    "    .agg(F.count(\"*\").alias(\"event_cnt\"))\\\n",
    "    .orderBy(\"event_cnt\", ascending = False)\\\n",
    "    .select(\"page_id\")\\\n",
    "    .show(5)"
   ]
  },
  {
   "cell_type": "code",
   "execution_count": 100,
   "id": "b846a807-af06-45d2-a0a7-74d699a4b856",
   "metadata": {},
   "outputs": [],
   "source": [
    "#Добавьте столбец к фрейму данных со значением временного диапазона в рамках суток с размером окна – 4 часа(0-4, 4-8, 8-12 и т.д.)"
   ]
  },
  {
   "cell_type": "code",
   "execution_count": 161,
   "id": "705d3577-b658-44a8-9bea-e309f9cf0e75",
   "metadata": {},
   "outputs": [],
   "source": [
    "df = df.select(*[i for i in df.columns if i != \"timestamp\"],\n",
    "                    F.from_unixtime(\"timestamp\").alias(\"event_time\"))"
   ]
  },
  {
   "cell_type": "code",
   "execution_count": 166,
   "id": "27b5ecf1-e76d-445d-9090-69040d6d4347",
   "metadata": {},
   "outputs": [
    {
     "name": "stdout",
     "output_type": "stream",
     "text": [
      "+-----+------+-------+--------+----+-------------------+---------+\n",
      "|   id|  type|page_id|     tag|sign|         event_time|timeparts|\n",
      "+-----+------+-------+--------+----+-------------------+---------+\n",
      "|12345| click|    101|   Sport|true|2022-11-05 08:50:26|        2|\n",
      "|12345|scroll|    101|   sport|true|2015-08-05 03:00:00|        0|\n",
      "|12345|  move|    102|medicine|true|2013-09-29 04:00:00|        1|\n",
      "|12348| visit|    103|  hitech|true|2008-05-26 04:00:00|        1|\n",
      "|12348|scroll|    104|medicine|true|2018-04-03 03:00:00|        0|\n",
      "+-----+------+-------+--------+----+-------------------+---------+\n",
      "only showing top 5 rows\n",
      "\n"
     ]
    }
   ],
   "source": [
    "df = df.withColumn(\"timeparts\", F.floor(F.hour(\"event_time\") / F.lit(4)))\n",
    "df.show(5)"
   ]
  },
  {
   "cell_type": "code",
   "execution_count": 101,
   "id": "98bcfc73-181d-4dbf-a462-af3a01da43e7",
   "metadata": {},
   "outputs": [],
   "source": [
    "#Выведите временной промежуток на основе предыдущего задания, в течение которого было больше всего активностей на сайте."
   ]
  },
  {
   "cell_type": "code",
   "execution_count": 173,
   "id": "674f2e37-0e7b-4d00-9114-7dec2d2133ad",
   "metadata": {},
   "outputs": [
    {
     "name": "stdout",
     "output_type": "stream",
     "text": [
      "+---------+\n",
      "|timeparts|\n",
      "+---------+\n",
      "|        0|\n",
      "+---------+\n",
      "only showing top 1 row\n",
      "\n"
     ]
    }
   ],
   "source": [
    "df.groupBy(\"timeparts\")\\\n",
    "    .agg(F.count(\"*\").alias(\"event_cnt\"))\\\n",
    "    .orderBy(\"event_cnt\", ascending = False)\\\n",
    "    .select(\"timeparts\")\\\n",
    "    .show(1)"
   ]
  },
  {
   "cell_type": "code",
   "execution_count": null,
   "id": "fa62d6d7-bd40-44c5-9523-6c495611d80a",
   "metadata": {},
   "outputs": [],
   "source": [
    "df.alias(\"lk\").join(df_web.alias(\"web\"),\n",
    "                                    on = [F.col(\"lk.user_id\") == F.col(\"web.id\")],\n",
    "                                    how = \"left\")"
   ]
  },
  {
   "cell_type": "code",
   "execution_count": 183,
   "id": "7269668f-fd6b-40b1-9232-8c144a16dda7",
   "metadata": {},
   "outputs": [
    {
     "name": "stdout",
     "output_type": "stream",
     "text": [
      "+--------------------+\n",
      "|                 fio|\n",
      "+--------------------+\n",
      "|Евстифеева Галина...|\n",
      "|Алексеев Борис Вл...|\n",
      "|Борисов Владимир ...|\n",
      "+--------------------+\n",
      "\n"
     ]
    }
   ],
   "source": [
    "#Вывести фамилии посетителей, которые читали хотя бы одну новость про спорт.\n",
    "df.alias(\"web\")\\\n",
    "    .join(dfus.alias(\"us\"),\n",
    "                        on = [F.col(\"us.user_id\") == F.col(\"web.id\")],\n",
    "                        how = \"left\")\\\n",
    "    .filter(F.col(\"web.tag\") == \"sport\")\\\n",
    "    .select(\"fio\").distinct()\\\n",
    "    .show()\n"
   ]
  }
 ],
 "metadata": {
  "kernelspec": {
   "display_name": "Python 3 (ipykernel)",
   "language": "python",
   "name": "python3"
  },
  "language_info": {
   "codemirror_mode": {
    "name": "ipython",
    "version": 3
   },
   "file_extension": ".py",
   "mimetype": "text/x-python",
   "name": "python",
   "nbconvert_exporter": "python",
   "pygments_lexer": "ipython3",
   "version": "3.10.7"
  }
 },
 "nbformat": 4,
 "nbformat_minor": 5
}
